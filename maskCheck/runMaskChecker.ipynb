{
 "cells": [
  {
   "cell_type": "code",
   "execution_count": 1,
   "id": "6da0cb41-66b2-4f34-b17b-dcfa3d394d6e",
   "metadata": {},
   "outputs": [
    {
     "ename": "ModuleNotFoundError",
     "evalue": "No module named 'tensorflow'",
     "output_type": "error",
     "traceback": [
      "\u001b[1;31m---------------------------------------------------------------------------\u001b[0m",
      "\u001b[1;31mModuleNotFoundError\u001b[0m                       Traceback (most recent call last)",
      "Cell \u001b[1;32mIn[1], line 1\u001b[0m\n\u001b[1;32m----> 1\u001b[0m \u001b[38;5;28;01mimport\u001b[39;00m \u001b[38;5;21;01mtensorflow\u001b[39;00m \u001b[38;5;28;01mas\u001b[39;00m \u001b[38;5;21;01mtf\u001b[39;00m\n\u001b[0;32m      2\u001b[0m \u001b[38;5;28;01mimport\u001b[39;00m \u001b[38;5;21;01mnumpy\u001b[39;00m \u001b[38;5;28;01mas\u001b[39;00m \u001b[38;5;21;01mnp\u001b[39;00m\n\u001b[0;32m      3\u001b[0m \u001b[38;5;28;01mimport\u001b[39;00m \u001b[38;5;21;01mos\u001b[39;00m\n",
      "\u001b[1;31mModuleNotFoundError\u001b[0m: No module named 'tensorflow'"
     ]
    }
   ],
   "source": [
    "import tensorflow as tf\n",
    "import numpy as np\n",
    "import os\n",
    "import random\n",
    "import matplotlib.pyplot as plt\n",
    "\n",
    "# Step #1: Load Data\n",
    "imageFolder = 'maskCheckData'\n",
    "imds = tf.keras.preprocessing.image_dataset_from_directory(\n",
    "    imageFolder, labels='inferred', label_mode='categorical', class_names=None, \n",
    "    color_mode='rgb', batch_size=32, image_size=(224, 224), shuffle=True, seed=None, \n",
    "    validation_split=0.3, subset='training', interpolation='bilinear', follow_links=False\n",
    ")\n",
    "\n",
    "# Step #2: Show Loaded Data\n",
    "tbl = imds.class_names\n",
    "print(tbl)\n",
    "\n",
    "# Step #3: Process and Verify Data\n",
    "imds_validation = tf.keras.preprocessing.image_dataset_from_directory(\n",
    "    imageFolder, validation_split=0.3, subset='validation', seed=123, image_size=(224, 224)\n",
    ")\n",
    "\n",
    "# Display a random image\n",
    "sample_image_batch, sample_label_batch = next(iter(imds))\n",
    "plt.imshow(sample_image_batch[0].numpy().astype(\"uint8\"))\n",
    "plt.title(imds.class_names[sample_label_batch[0].numpy().argmax()])\n",
    "plt.axis(\"off\")\n",
    "\n",
    "# Step #4: Import Network and Resize Data\n",
    "base_model = tf.keras.applications.GoogLeNet(weights='imagenet', include_top=False, input_shape=(224, 224, 3))\n",
    "\n",
    "# Display an example image and its prediction\n",
    "image_batch, label_batch = next(iter(imds_validation))\n",
    "image_array = tf.keras.preprocessing.image.img_to_array(random.choice(image_batch))\n",
    "predicted_label = base_model.predict(np.expand_dims(image_array, axis=0))\n",
    "predicted_class = tbl[np.argmax(predicted_label[0])]\n",
    "plt.imshow(tf.keras.preprocessing.image.array_to_img(image_array))\n",
    "plt.title(predicted_class)\n",
    "plt.axis(\"off\")\n",
    "\n",
    "# Step #5: Transfer Learning\n",
    "base_model.trainable = False\n",
    "model = tf.keras.Sequential([\n",
    "    base_model,\n",
    "    tf.keras.layers.GlobalAveragePooling2D(),\n",
    "    tf.keras.layers.Dense(len(tbl), activation='softmax')\n",
    "])\n",
    "\n",
    "model.compile(optimizer=tf.keras.optimizers.SGD(learning_rate=3e-4, momentum=0.9), \n",
    "              loss='categorical_crossentropy', \n",
    "              metrics=['accuracy'])\n",
    "\n",
    "history = model.fit(imds, validation_data=imds_validation, epochs=6)\n",
    "\n",
    "# Step #6: Classify on New Data\n",
    "YPred = model.predict(imds_validation)\n",
    "accuracy = np.mean(np.argmax(YPred, axis=1) == np.argmax(label_batch, axis=1))\n",
    "print(f\"Accuracy: {accuracy:.4f}\")\n",
    "\n",
    "# Display individual images\n",
    "for i in range(4):\n",
    "    image_array = tf.keras.preprocessing.image.img_to_array(random.choice(image_batch))\n",
    "    predicted_label = model.predict(np.expand_dims(image_array, axis=0))\n",
    "    predicted_class = tbl[np.argmax(predicted_label[0])]\n",
    "    plt.figure(figsize=(5, 5))\n",
    "    plt.imshow(tf.keras.preprocessing.image.array_to_img(image_array))\n",
    "    plt.title(predicted_class)\n",
    "    plt.axis(\"off\")\n"
   ]
  },
  {
   "cell_type": "code",
   "execution_count": null,
   "id": "7c9f7678-2014-48ec-95e7-d1fbde2615ec",
   "metadata": {},
   "outputs": [],
   "source": []
  }
 ],
 "metadata": {
  "kernelspec": {
   "display_name": "Python 3 (ipykernel)",
   "language": "python",
   "name": "python3"
  },
  "language_info": {
   "codemirror_mode": {
    "name": "ipython",
    "version": 3
   },
   "file_extension": ".py",
   "mimetype": "text/x-python",
   "name": "python",
   "nbconvert_exporter": "python",
   "pygments_lexer": "ipython3",
   "version": "3.12.0"
  }
 },
 "nbformat": 4,
 "nbformat_minor": 5
}
